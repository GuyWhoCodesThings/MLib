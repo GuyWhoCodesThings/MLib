{
 "cells": [
  {
   "cell_type": "code",
   "execution_count": null,
   "metadata": {},
   "outputs": [
    {
     "ename": "",
     "evalue": "",
     "output_type": "error",
     "traceback": [
      "\u001b[1;31mThe kernel failed to start as '/Users/guycohen/Library/Python/3.10/lib/python/site-packages/psutil/_psutil_osx.cpython-310-darwin.so' could not be imported from '/Users/guycohen/Library/Python/3.10/lib/python/site-packages/psutil/_psutil_osx.cpython-310-darwin.so, 0x0002'.\n",
      "\u001b[1;31mClick <a href='https://aka.ms/kernelFailuresModuleImportErrFromFile'>here</a> for more info."
     ]
    }
   ],
   "source": [
    "import mlib\n",
    "import random\n"
   ]
  },
  {
   "cell_type": "code",
   "execution_count": null,
   "metadata": {},
   "outputs": [],
   "source": [
    "f = lambda x: 4 * x + random.uniform(0, 2)\n",
    "data = [0.1, 0.5, -1.2, 2.1]\n",
    "out = [f(d) for d in data]"
   ]
  },
  {
   "cell_type": "code",
   "execution_count": null,
   "metadata": {},
   "outputs": [],
   "source": [
    "x = mlib.Marray([data]).T\n",
    "y_true = mlib.Marray([out]).T\n",
    "w = (x.T @ x).inverse() @ x.T @ y_true\n",
    "print(w)"
   ]
  }
 ],
 "metadata": {
  "kernelspec": {
   "display_name": "Python 3",
   "language": "python",
   "name": "python3"
  },
  "language_info": {
   "name": "python",
   "version": "3.10.8"
  }
 },
 "nbformat": 4,
 "nbformat_minor": 2
}
